{
  "nbformat": 4,
  "nbformat_minor": 0,
  "metadata": {
    "colab": {
      "provenance": [],
      "include_colab_link": true
    },
    "kernelspec": {
      "name": "python3",
      "display_name": "Python 3"
    },
    "language_info": {
      "name": "python"
    }
  },
  "cells": [
    {
      "cell_type": "markdown",
      "metadata": {
        "id": "view-in-github",
        "colab_type": "text"
      },
      "source": [
        "<a href=\"https://colab.research.google.com/github/mkhb654/AWS-SageMaker-Pipeline-FPE/blob/master/Dataset_1_CNN_Assignment_Exploring_Neural_Network_Architectures.ipynb\" target=\"_parent\"><img src=\"https://colab.research.google.com/assets/colab-badge.svg\" alt=\"Open In Colab\"/></a>"
      ]
    },
    {
      "cell_type": "markdown",
      "source": [
        "# Please make a copy of this notebook and try solving the below questions in your notebook copy. Solutions for these will be discussed in the assignment review session on <day> post which, we will also share the solution notebook.\n",
        "\n",
        "\n",
        "# **Good Luck**"
      ],
      "metadata": {
        "id": "gK6IMbeOCPg0"
      }
    },
    {
      "cell_type": "markdown",
      "source": [
        "# Handwritten Letters Dataset\n",
        "###It contains the following info:\n",
        "#####**The main dataset (letters.zip)**\n",
        "1650 (50x33) color images (32x32x3) with 33 letters and the file with labels letters.txt.\n",
        "Photo files are in the .png format and the labels are integers and values.\n",
        "Additional letters.csv file.\n",
        "The file LetterColorImages.h5 consists of preprocessing images of this set: image tensors and targets (labels).\n",
        "#####**The additional dataset (letters2.zip)**\n",
        "5940 (180x33) color images (32x32x3) with 33 letters and the file with labels letters2.txt.\n",
        "Photo files are in the .png format and the labels are integers and values.\n",
        "Additional letters2.csv file.\n",
        "The file LetterColorImages2.h5 consists of preprocessing images of this set: image tensors and targets (labels).\n",
        "#####**The additional dataset (letters3.zip)**\n",
        "6600 (200x33) color images (32x32x3) with 33 letters and the file with labels letters2.txt.\n",
        "Photo files are in the .png format and the labels are integers and values.\n",
        "Additional letters3.csv file.\n",
        "The file LetterColorImages3.h5 consists of preprocessing images of this set: image tensors and targets (labels).\n",
        "Letter Symbols => Letter Labels\n",
        "а=>1, б=>2, в=>3, г=>4, д=>5, е=>6, ё=>7, ж=>8, з=>9, и=>10,\n",
        "й=>11, к=>12, л=>13, м=>14, н=>15, о=>16, п=>17, р=>18, с=>19, т=>20,\n",
        "у=>21, ф=>22, х=>23, ц=>24, ч=>25, ш=>26, щ=>27, ъ=>28, ы=>29, ь=>30,\n",
        "э=>31, ю=>32, я=>33\n",
        "\n",
        "Image Backgrounds => Background Labels\n",
        "striped=>0, gridded=>1, no background=>2, graph paper=>3\n",
        "\n",
        "#####**The new version (zip_letters.zip)**\n",
        "Letter Symbols => Letter Labels\n",
        "а=>00, б=>01, в=>02, г=>03, д=>04, е=>05, ё=>06, ж=>07, з=>08, и=>09,\n",
        "й=>10, к=>11, л=>12, м=>13, н=>14, о=>15, п=>16, р=>17, с=>18, т=>19,\n",
        "у=>20, ф=>21, х=>22, ц=>23, ч=>24, ш=>25, щ=>26, ъ=>27, ы=>28, ь=>29,\n",
        "э=>30, ю=>31, я=>32\n",
        "\n",
        "'lowercase'=>00, 'uppercase'=>01\n",
        "\n",
        "Image Backgrounds => Background Labels\n",
        "'single-colored paper'=>00, 'striped paper'=>01, 'squared paper'=>02, 'graph paper'=>03\n",
        "\n"
      ],
      "metadata": {
        "id": "aUPBlfDXfDne"
      }
    },
    {
      "cell_type": "markdown",
      "source": [
        "##Question 1\n",
        "####Import the libraries and extract the dataset from zipped file."
      ],
      "metadata": {
        "id": "9w1aihGOB8jM"
      }
    },
    {
      "cell_type": "code",
      "source": [
        "#Solution 1(your code here)"
      ],
      "metadata": {
        "id": "Td0fdTsQC2As"
      },
      "execution_count": null,
      "outputs": []
    },
    {
      "cell_type": "markdown",
      "source": [
        "##Question 2\n",
        "####Import the dataset - 'letters.csv', 'letters2.csv', 'letters3.csv'"
      ],
      "metadata": {
        "id": "PZGWxG3kCv86"
      }
    },
    {
      "cell_type": "code",
      "source": [
        "#Solution 2(your code here)"
      ],
      "metadata": {
        "id": "eAAqiqxAC7hO"
      },
      "execution_count": null,
      "outputs": []
    },
    {
      "cell_type": "markdown",
      "source": [
        "##Question 3\n",
        "####Perform EDA on the datsaet to understand the data."
      ],
      "metadata": {
        "id": "k4Rlln4ZDKEX"
      }
    },
    {
      "cell_type": "code",
      "source": [
        "#Solution 3(your code here)"
      ],
      "metadata": {
        "id": "box5ydDfDPtb"
      },
      "execution_count": null,
      "outputs": []
    },
    {
      "cell_type": "markdown",
      "source": [
        "##Question 4\n",
        "####Extract the information to train the model from the dataset."
      ],
      "metadata": {
        "id": "56LDVT03DRIn"
      }
    },
    {
      "cell_type": "code",
      "source": [
        "#Solution 4(your code here)"
      ],
      "metadata": {
        "id": "AUlBrq1nDuKJ"
      },
      "execution_count": null,
      "outputs": []
    },
    {
      "cell_type": "markdown",
      "source": [
        "##Question 5\n",
        "####Train the CNN model."
      ],
      "metadata": {
        "id": "XPSxq0zADvlN"
      }
    },
    {
      "cell_type": "code",
      "source": [
        "#Solution 5(your code here)"
      ],
      "metadata": {
        "id": "jRQyqYZID3yH"
      },
      "execution_count": null,
      "outputs": []
    },
    {
      "cell_type": "markdown",
      "source": [
        "##Question 6\n",
        "####Plot the prediction vs true label to check the labels."
      ],
      "metadata": {
        "id": "Itq1aALMD5Vb"
      }
    },
    {
      "cell_type": "code",
      "source": [
        "#Solution 5(your code here)"
      ],
      "metadata": {
        "id": "Pjj2IOmtEBFo"
      },
      "execution_count": null,
      "outputs": []
    }
  ]
}